{
 "cells": [
  {
   "cell_type": "code",
   "execution_count": null,
   "metadata": {},
   "outputs": [],
   "source": [
    "import pandas as pd\n",
    "from numpy.random import randint\n",
    "import matplotlib.pyplot as plt\n",
    "\n",
    "\n",
    "def graphpairfeature(df, stemdf, featurename, label):\n",
    "    classlist = list(df['labels'].copy())\n",
    "    stemlist = list(stemdf[featurename]).copy()\n",
    "    featurelist = list(df[featurename].copy())\n",
    "                \n",
    "                \n",
    "    graphfeaturelist = list()\n",
    "    graphclasslist = list()\n",
    "    \n",
    "    for i in range(len(stemlist)):\n",
    "        graphfeaturelist.append(stemlist[i])\n",
    "        graphclasslist.append(0)\n",
    "    for i in range(len(classlist)):\n",
    "        if classlist[i] == label:\n",
    "            graphfeaturelist.append(featurelist[i])\n",
    "            graphclasslist.append(1)\n",
    "        \n",
    "    graphindex = 20\n",
    "    for i in range(len(stemlist)):\n",
    "        if i % 3 == 0:\n",
    "            graphindex += 20\n",
    "        graphclasslist[i] = graphindex\n",
    "        graphindex += 5\n",
    "    graphindex += 50\n",
    "    for i in range(len(stemlist), len(graphclasslist)):\n",
    "        graphclasslist[i] = graphindex\n",
    "        graphindex += 1\n",
    "    plt.scatter(graphclasslist, graphfeaturelist)\n",
    "    plt.title(featurename)\n",
    "    plt.ylabel('Feature Value')\n",
    "    plt.xlabel('Iteration split by label')\n",
    "    plt.show()"
   ]
  },
  {
   "cell_type": "code",
   "execution_count": null,
   "metadata": {},
   "outputs": [],
   "source": [
    "df = pd.read_csv(\"data/exToptimizedtrain.csv\")\n",
    "stemdf = pd.read_csv(\"stem_data/prepped_stem_data.csv\")\n",
    "\n",
    "graphpairfeature(df, stemdf, 'CLDN4', 2)"
   ]
  }
 ],
 "metadata": {
  "kernelspec": {
   "display_name": "Python 3",
   "language": "python",
   "name": "python3"
  },
  "language_info": {
   "codemirror_mode": {
    "name": "ipython",
    "version": 3
   },
   "file_extension": ".py",
   "mimetype": "text/x-python",
   "name": "python",
   "nbconvert_exporter": "python",
   "pygments_lexer": "ipython3",
   "version": "3.7.4"
  }
 },
 "nbformat": 4,
 "nbformat_minor": 2
}
